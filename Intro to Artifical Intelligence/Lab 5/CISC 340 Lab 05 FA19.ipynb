{
 "cells": [
  {
   "attachments": {
    "HUBanner.png": {
     "image/png": "[encoded data removed]"
    }
   },
   "cell_type": "markdown",
   "metadata": {},
   "source": [
    "![HUBanner.png](attachment:HUBanner.png)\n",
    "<br>\n",
    "# CISC 340\n",
    "# Introduction to Artificial Intelligence\n",
    "## Lab Booklet #05\n",
    "## Lab Title: Artificial Neural Networks\n",
    "***\n",
    "### **Instructors**\n",
    "### Brian Grey M.S.\n",
    "### Chad Van Chu M.S.\n",
    "***"
   ]
  },
  {
   "cell_type": "markdown",
   "metadata": {},
   "source": [
    "# Objectives\n",
    "#### Artificiail neurons and the neural networks that they create are the root of deep learning and much of the AI explosion which has happened over the last 5 years. While neural networks can be used for both supervised and unsupervised learning, we have been examining it from only a supervised paradigm. In this lab, we will be examing different approaches to creating and training neural networks.\n",
    "\n",
    "#### After completing this lab, you will be able to:\n",
    "\n",
    "- __Understand the intrinsic differences of different artificial neurons__\n",
    "- __Understand how different neurons behave__\n",
    "- __Understand the gradiant descent training algorithm__"
   ]
  },
  {
   "cell_type": "markdown",
   "metadata": {},
   "source": [
    "# Resources\n",
    "#### While the lab will explain everything that you need to know, you may want to consult the following sources for additional knowledge:\n",
    "\n",
    "- [https://en.wikipedia.org/wiki/Perceptron](https://en.wikipedia.org/wiki/Perceptron)\n",
    "- [https://en.wikipedia.org/wiki/Artificial_neuron](https://en.wikipedia.org/wiki/Artificial_neuron)\n",
    "- [https://en.wikipedia.org/wiki/Artificial_neural_network](https://en.wikipedia.org/wiki/Artificial_neural_network)"
   ]
  },
  {
   "cell_type": "markdown",
   "metadata": {},
   "source": [
    "# Deliverables\n",
    "#### For this lab, you will need to submit:\n",
    "\n",
    "- Jupyter notebook files (.ipynb), named and coded as instructed. \n",
    "  - CISC 340 Lab 05 FA19.ipynb"
   ]
  },
  {
   "cell_type": "markdown",
   "metadata": {},
   "source": [
    "# <u>Part 1: Artificial Neurons</u>"
   ]
  },
  {
   "cell_type": "markdown",
   "metadata": {},
   "source": [
    "We have discussed 4 different approaches to artificial neurons: step-function perceptrons, linear units, squashing sigmoid units, and squashing tanh units.\n",
    "\n",
    "<u>Step-Function Perceptrons</u>\n",
    "--------------\n",
    "![Perceptron](Perceptron_Diagram.jpg)\n",
    "\n",
    "<br>Above is the diagram for the structure of a step-function perceptron as we covered in class.\n",
    "\n",
    "#### 1. Create a `Perceptron` object with the following, publicly-visible methods: \n",
    "- __`_ _ init _ _ `: Initializer method which takes number of inputs this `Perceptron` expects and configures it appropriately. Note that this number does not include the \"bias\" input.__\n",
    "- __`classify(record)`: Method which takes a record which the method will classify. It should return the classification (i.e. the output from the `Perceptron`).__\n",
    "- __`train(expected_output, output, record)`: Method which takes the expected output of the `Perceptron`, the actual output of the actual output of the `Perceptron`, and the input record which created the output. The method then adjusts the weights of the `Perceptron` using the gradiant descent equation.__"
   ]
  },
  {
   "cell_type": "code",
   "execution_count": 1,
   "metadata": {},
   "outputs": [],
   "source": [
    "from artifical_nueron import Artifical_Nueron\n",
    "import math\n",
    "\n",
    "class Perceptron(Artifical_Nueron):\n",
    "    def __init__(self, record):\n",
    "        super().__init__(learningRate=0.1, input=record)\n",
    "        \n",
    "    \n",
    "    def classify(self, record):\n",
    "        weightSum = 0\n",
    "        for i in range(len(self.weights)-1):\n",
    "            weightSum += self.weights[i]* record[i]\n",
    "            \n",
    "        for i in range(len(self.bias_weight)-1):\n",
    "            weightSum += self.bias_weight[i]\n",
    "        \n",
    "        if weightSum > 0:\n",
    "            return 1\n",
    "        else:\n",
    "            return -1\n",
    "    \n",
    "    def train(self, expected_output, output, record):\n",
    "        return self.train_data(expected_output, output, record)"
   ]
  },
  {
   "cell_type": "markdown",
   "metadata": {},
   "source": [
    "\n",
    "<u>Linear Units</u>\n",
    "--------------\n",
    "![Linear Unit](Linear_Diagram.png)\n",
    "\n",
    "<br>Above is the diagram for the structure of a linear unit as we covered in class.\n",
    "\n",
    "#### 2. Create a `LinearUnit` object with the following, publicly-visible methods: \n",
    "- __`_ _ init _ _ `: Initializer method which takes number of inputs that this `LinearUnit` expects and configures it appropriately.__\n",
    "- __`classify(record)`: Method which takes a record which the method will classify. It should return the classification (i.e. the output from the `LinearUnit`).__\n",
    "- __`train(expected_output, output, record)`: Method which takes the expected output of the `LinearUnit`, the actual output of the actual output of the `LinearUnit`, and the input record which created the output. The method then adjusts the weights of the `LinearUnit` using the gradiant descent equation.__"
   ]
  },
  {
   "cell_type": "code",
   "execution_count": 2,
   "metadata": {},
   "outputs": [],
   "source": [
    "class LinearUnit(Artifical_Nueron):\n",
    "    def __init__(self, record):\n",
    "        super().__init__(learningRate=0.1, input=record)\n",
    "    \n",
    "    def classify(self, record):\n",
    "        weightSum = 0\n",
    "        for i in range(len(self.weights)-1):\n",
    "            weightSum += self.weights[i]* record[i]\n",
    "            \n",
    "        return weightSum\n",
    "    \n",
    "    def train(self, expected_output, output, record):\n",
    "        # output = self.error\n",
    "        # expected_output = weightSum\n",
    "        # record = record\n",
    "        return self.train_data(expected_output, output, record)\n",
    "        \n"
   ]
  },
  {
   "cell_type": "markdown",
   "metadata": {},
   "source": [
    "\n",
    "<u>Squashing Sigmoid Units</u>\n",
    "--------------\n",
    "![Sigmoid Unit](Sigmoid_Diagram.png)\n",
    "\n",
    "<br>Above is the diagram for the structure of a squashing sigmoid unit as we covered in class.\n",
    "\n",
    "#### 3. Create a `SigmoidUnit` object with the following, publicly-visible methods: \n",
    "- __`_ _ init _ _ `: Initializer method which takes number of inputs that this `SigmoidUnit` expects and configures it appropriately.__\n",
    "- __`classify(record)`: Method which takes a record which the method will classify. It should return the classification (i.e. the output from the `SigmoidUnit`).__\n",
    "- __`train(expected_output, output, record)`: Method which takes the expected output of the `SigmoidUnit`, the actual output of the actual output of the `SigmoidUnit`, and the input record which created the output. The method then adjusts the weights of the `SigmoidUnit` using the gradiant descent equation.__"
   ]
  },
  {
   "cell_type": "code",
   "execution_count": 6,
   "metadata": {},
   "outputs": [],
   "source": [
    "\n",
    "class SigmoidUnit(Artifical_Nueron):\n",
    "    def __init__(self, record):\n",
    "        super().__init__(learningRate=0.1, input=record)\n",
    "    \n",
    "    def classify(self, record):\n",
    "        weightSum = 0\n",
    "        for i in range(len(self.weights)-1):\n",
    "            weightSum += self.weights[i]* record[i]\n",
    "        sigma = 1/(1+math.exp(-weightSum))\n",
    "        return sigma\n",
    "        \n",
    "    def train(self, expected_output, output, record):\n",
    "        return self.train_data(expected_output, output, record)"
   ]
  },
  {
   "cell_type": "markdown",
   "metadata": {},
   "source": [
    "\n",
    "<u>Squashing tanh Units</u>\n",
    "--------------\n",
    "![tanh Unit](tanh_Diagram.png)\n",
    "\n",
    "<br>Above is the diagram for the structure of a squashing tanh unit as we covered in class.\n",
    "\n",
    "#### 4. Create a `TanhUnit` object with the following, publicly-visible methods: \n",
    "- __`_ _ init _ _ `: Initializer method which takes number of inputs that this `TanhUnit` expects and configures it appropriately.__\n",
    "- __`classify(record)`: Method which takes a record which the method will classify. It should return the classification (i.e. the output from the `TanhUnit`).__\n",
    "- __`train(expected_output, output, record)`: Method which takes the expected output of the `TanhUnit`, the actual output of the actual output of the `TanhUnit`, and the input record which created the output. The method then adjusts the weights of the `TanhUnit` using the gradiant descent equation.__"
   ]
  },
  {
   "cell_type": "code",
   "execution_count": null,
   "metadata": {},
   "outputs": [],
   "source": [
    "\n",
    "class TanhUnit(Artifical_Nueron):\n",
    "    def __init__(self, record):\n",
    "        super().__init__(learningRate=0.1, input=record)\n",
    "    \n",
    "    def classify(self, record):\n",
    "        weightSum = 0\n",
    "        # Dot Function\n",
    "        for i in range(len(self.weights)-1):\n",
    "            weightSum += self.weights[i]* record[i]\n",
    "        squash = math.tanh(weightSum)\n",
    "        return squash\n",
    "        \n",
    "    \n",
    "    def train(self, expected_output, output, record):\n",
    "        return self.train_data(expected_output, output, record)"
   ]
  },
  {
   "cell_type": "markdown",
   "metadata": {},
   "source": [
    "# <u>Part 2: Application</u>"
   ]
  },
  {
   "cell_type": "markdown",
   "metadata": {},
   "source": [
    "Now that we have a variety of artificial units at our disposal, we can attempt to train them. Attached to the lab are three documents: `vote-dem.txt`, `vote-rep.txt`, and `vote-gen.txt`. Each contains a set of Congressional voting records from 1984 as well as a header containing the content of the file. Each voting record is contained in a single line of pairs of characters where 10 is considered a vote for, 01 is considered a vote against, and 11 is considered an abstention. The final bit character of the line contains the party affiliation for the Congressman: 0 for Republican and 1 for Democrat. All other lines are considered comments and start with the double slash (//).\n",
    "\n",
    "#### 5. How will you deal with abstention votes in when processing the votes?"
   ]
  },
  {
   "cell_type": "markdown",
   "metadata": {},
   "source": [
    "How I plan to deal with abstention votes is to make the abstention votes equal 0 since Yes votes will be equal to 1 and no votes will be equal to -1 and since the dataset will be added together in the artifical nueron, abstentation will not affect the total in anyway\n"
   ]
  },
  {
   "cell_type": "markdown",
   "metadata": {},
   "source": [
    "\n",
    "#### 6. Write a function `trainNeuron` that will take an artificial neuron, a document, and a number of iterations. This function will train the artificial neuron the specified number of times on the document passed in. When complete, the function should return the trained artificial neuron."
   ]
  },
  {
   "cell_type": "code",
   "execution_count": 9,
   "metadata": {},
   "outputs": [
    {
     "ename": "NameError",
     "evalue": "name 'Perceptron' is not defined",
     "output_type": "error",
     "traceback": [
      "\u001b[1;31m---------------------------------------------------------------------------\u001b[0m",
      "\u001b[1;31mNameError\u001b[0m                                 Traceback (most recent call last)",
      "Cell \u001b[1;32mIn[9], line 64\u001b[0m\n\u001b[0;32m     61\u001b[0m         curr_iteration\u001b[38;5;241m+\u001b[39m\u001b[38;5;241m=\u001b[39m\u001b[38;5;241m1\u001b[39m\n\u001b[0;32m     63\u001b[0m     \u001b[38;5;28;01mreturn\u001b[39;00m \u001b[38;5;241m0\u001b[39m\n\u001b[1;32m---> 64\u001b[0m nueron \u001b[38;5;241m=\u001b[39m \u001b[43mPerceptron\u001b[49m\n\u001b[0;32m     65\u001b[0m \u001b[38;5;28mprint\u001b[39m(trainNueron(nueron, \u001b[38;5;124m\"\u001b[39m\u001b[38;5;124mvote-gen.txt\u001b[39m\u001b[38;5;124m\"\u001b[39m, \u001b[38;5;241m1\u001b[39m))\n",
      "\u001b[1;31mNameError\u001b[0m: name 'Perceptron' is not defined"
     ]
    }
   ],
   "source": [
    "import textwrap\n",
    "def trainNueron(artificial_neuron, file, iterations):\n",
    "    # iterate as many times as defined and train artifical nueron\n",
    "\n",
    "    dataset = processFile(file)    \n",
    "    # Counter Variable\n",
    "    curr_iteration = 0\n",
    "    '''Training Loop'''\n",
    "    while curr_iteration <= iterations:\n",
    "        for data in range(len(dataset)-1):\n",
    "            # Takes off last value of list so its just yes/no/abstain\n",
    "            dlist = dataset[data][0:(len(dataset[data])-1)]\n",
    "            # Calls train function of nueron where Democrat = 1\n",
    "            artificial_neuron.train(dataset[data][len(dataset[data])-1], artificial_neuron.classify(dlist), dlist)\n",
    "            \n",
    "        curr_iteration+=1\n",
    "            \n",
    "    return artificial_neuron\n",
    "\n",
    "def processFile(file):\n",
    "    # Opens specified file\n",
    "    f = open(file, \"r\")\n",
    "    \n",
    "    vote_data = []\n",
    "    \n",
    "    # loops through every line until end of file and checks for comments\n",
    "    for x in f:\n",
    "        line = f.readline()\n",
    "        if line[:2] == \"//\":\n",
    "            # Comment in file detected, skip to next line\n",
    "            pass\n",
    "        else:\n",
    "            # Comment not found, split line into parts of 2, add them to list to be further processed\n",
    "            vote_data.append(textwrap.wrap(line, 2))\n",
    "    \n",
    "    # Closes the file since we no longer need to access it\n",
    "    f.close()\n",
    "    \n",
    "    # Main Dataset that will be processed and passed into Artifical Nueron\n",
    "    dataset = [[] for i in range(len(vote_data))]\n",
    "    \n",
    "    # Access entire list and adds up each instance of a action so it can be read\n",
    "    '''Dataset Process Loop'''\n",
    "    for m in range(len(vote_data)):\n",
    "        # iterate over internal list\n",
    "        for n in range(len(vote_data[m])):\n",
    "            match vote_data[m][n]:\n",
    "                # Yes = 1\n",
    "                # No = -1\n",
    "                # Abstain = 0\n",
    "                case \"10\":\n",
    "                    # Yes\n",
    "                    dataset[m].append(1)\n",
    "                case \"01\":\n",
    "                    # No\n",
    "                    dataset[m].append(-1)\n",
    "                case \"11\":\n",
    "                    # Abstain\n",
    "                    dataset[m].append(0)\n",
    "                case \"1\":\n",
    "                    # Democrat\n",
    "                    dataset[m].append(1)\n",
    "                case \"0\":\n",
    "                    # Republican\n",
    "                    dataset[m].append(-1)\n",
    "    return dataset"
   ]
  },
  {
   "cell_type": "markdown",
   "metadata": {},
   "source": [
    "<br>\n",
    "Now that we have artificial neurons and a method of training them, we need to have them learn something. Our goal is to teach a neuron so that it can predict the party of a Congressman based on a given voting pattern. However, to do this we need to determine the type of artificial neuron to use, depending on the type of artificial neuron how the output will be classified, and the number of training iterations to run.\n",
    "\n",
    "#### 7. What type of artificial neuron will you use? How will you classify the output of that artificial neuron? How many training iterations will you run? Provide all supporting rational for your decisions. The rational may or may not involve writing code to decide. If you do write code, please include it below."
   ]
  },
  {
   "cell_type": "markdown",
   "metadata": {},
   "source": [
    "The artifical nueron I plan to use is the Perceptron due to the goal being determining between 2 states so the perceptron would be the best because it can only return 2 values and not a range of values. I plan to classify the output of the nueron as a return of 1 being a democrat and a return of 0 being a republican and with this output I will have an if statement checking for the output. I plan to run 25 of iterations because I believe that should be plenty for this example with the amount of data in the datasets. "
   ]
  },
  {
   "cell_type": "markdown",
   "metadata": {},
   "source": [
    "<br>\n",
    "We now need to train our artificial neurons. We'll need to write code to train three different artificial neurons of the type that you chose in Question 7.  One neuron should train on `vote-dem.txt`, one should train on `vote-rep.txt`, and one should train on `vote-gen.txt`. Once trained, you should test the for accuracy using the `vote-gen.txt` file.\n",
    "\n",
    "#### 8.\tWrite the code described above and display the accuracy for each neuron to the screen. This accuracy information should be labeled to be understood."
   ]
  },
  {
   "cell_type": "code",
   "execution_count": 35,
   "metadata": {},
   "outputs": [
    {
     "name": "stdout",
     "output_type": "stream",
     "text": [
      "The accuracy of nueron trained on vote-dem.txt is: 81.05263157894737 %\n",
      "The accuracy of nueron trained on vote-rep.txt is: 22.105263157894736 %\n",
      "The accuracy of nueron trained on vote-gen.txt is: 5.263157894736842 %\n"
     ]
    }
   ],
   "source": [
    "from artifical_nueron import Artifical_Nueron\n",
    "import math\n",
    "\n",
    "class Perceptron(Artifical_Nueron):\n",
    "    def __init__(self, record):\n",
    "        super().__init__(learningRate=0.1, input=record)\n",
    "        \n",
    "    \n",
    "    def classify(self, record):\n",
    "        weightSum = 0\n",
    "        for i in range(len(self.weights)-1):\n",
    "            weightSum += self.weights[i]* record[i]\n",
    "            \n",
    "        for i in range(len(self.bias_weight)-1):\n",
    "            weightSum += self.bias_weight[i]\n",
    "        \n",
    "        if weightSum > 0:\n",
    "            return 1\n",
    "        else:\n",
    "            return -1\n",
    "    \n",
    "    def train(self, expected_output, output, record):\n",
    "        return self.train_data(expected_output, output, record)\n",
    "    \n",
    "import textwrap\n",
    "def trainNueron(artificial_neuron, file, iterations):\n",
    "    # iterate as many times as defined and train artifical nueron\n",
    "\n",
    "    dataset = processFile(file)    \n",
    "    # Counter Variable\n",
    "    curr_iteration = 0\n",
    "    '''Training Loop'''\n",
    "    while curr_iteration <= iterations:\n",
    "        for data in range(len(dataset)-1):\n",
    "            # Takes off last value of list so its just yes/no/abstain\n",
    "            dlist = dataset[data][0:(len(dataset[data])-1)]\n",
    "            # Calls train function of nueron where Democrat = 1\n",
    "            artificial_neuron.train(dataset[data][len(dataset[data])-1], artificial_neuron.classify(dlist), dlist)\n",
    "            \n",
    "        curr_iteration+=1\n",
    "            \n",
    "    return artificial_neuron\n",
    "\n",
    "def processFile(file):\n",
    "    # Opens specified file\n",
    "    f = open(file, \"r\")\n",
    "    \n",
    "    vote_data = []\n",
    "    \n",
    "    # loops through every line until end of file and checks for comments\n",
    "    for x in f:\n",
    "        line = f.readline()\n",
    "        if line[:2] == \"//\":\n",
    "            # Comment in file detected, skip to next line\n",
    "            pass\n",
    "        else:\n",
    "            # Comment not found, split line into parts of 2, add them to list to be further processed\n",
    "            vote_data.append(textwrap.wrap(line, 2))\n",
    "    \n",
    "    # Closes the file since we no longer need to access it\n",
    "    f.close()\n",
    "    \n",
    "    # Main Dataset that will be processed and passed into Artifical Nueron\n",
    "    dataset = [[] for i in range(len(vote_data))]\n",
    "    \n",
    "    # Access entire list and adds up each instance of a action so it can be read\n",
    "    '''Dataset Process Loop'''\n",
    "    for m in range(len(vote_data)):\n",
    "        # iterate over internal list\n",
    "        for n in range(len(vote_data[m])):\n",
    "            match vote_data[m][n]:\n",
    "                # Yes = 1\n",
    "                # No = -1\n",
    "                # Abstain = 0\n",
    "                case \"10\":\n",
    "                    # Yes\n",
    "                    dataset[m].append(1)\n",
    "                case \"01\":\n",
    "                    # No\n",
    "                    dataset[m].append(-1)\n",
    "                case \"11\":\n",
    "                    # Abstain\n",
    "                    dataset[m].append(0)\n",
    "                case \"1\":\n",
    "                    # Democrat\n",
    "                    dataset[m].append(1)\n",
    "                case \"0\":\n",
    "                    # Republican\n",
    "                    dataset[m].append(-1)\n",
    "    return dataset\n",
    "\n",
    "dem_dataset = processFile(\"vote-dem.txt\")\n",
    "rep_dataset = processFile(\"vote-rep.txt\")\n",
    "gen_dataset = processFile(\"vote-gen.txt\")\n",
    "iterations = 25\n",
    "dem_nueron = Perceptron(dem_dataset[0:(len(dem_dataset[0])-1)])\n",
    "rep_nueron = Perceptron(rep_dataset[0:(len(rep_dataset[0])-1)])\n",
    "gen_nueron = Perceptron(gen_dataset[0:(len(gen_dataset[0])-1)])\n",
    "\n",
    "trainNueron(dem_nueron, \"vote-dem.txt\", iterations)\n",
    "trainNueron(rep_nueron, \"vote-rep.txt\", iterations)\n",
    "trainNueron(gen_nueron, \"vote-gen.txt\", iterations)\n",
    "\n",
    "def testNueron(nueron, dataset):\n",
    "    counter = 0\n",
    "    total = 0\n",
    "    for data in range(len(dataset)):\n",
    "        dlist = dataset[data][0:(len(dataset[data])-1)]\n",
    "        total += nueron.classify(dlist)\n",
    "        counter +=1\n",
    "    return (total/counter)*100\n",
    "\n",
    "test_dem = testNueron(dem_nueron, gen_dataset)\n",
    "test_rep = testNueron(rep_nueron, gen_dataset)\n",
    "test_gen = testNueron(gen_nueron, gen_dataset)\n",
    "\n",
    "print(\"The accuracy of nueron trained on vote-dem.txt is:\", test_dem, \"%\")\n",
    "print(\"The accuracy of nueron trained on vote-rep.txt is:\", test_rep*-1, \"%\")\n",
    "print(\"The accuracy of nueron trained on vote-gen.txt is:\", test_gen, \"%\")\n",
    "\n"
   ]
  },
  {
   "cell_type": "markdown",
   "metadata": {},
   "source": [
    "\n",
    "#### 9.\tWhat are the comparative accuracies of the three trained neurons? Is this what you expected? Why or why not? How would you account for the differences in accuracy?"
   ]
  },
  {
   "cell_type": "markdown",
   "metadata": {},
   "source": [
    "The accuracies of the three nuerons are strange. The republican and democrat nuerons are highly variable running from a low percentage of accuracy, to a high percentage of accuracy. The gen nueron however is static at around 5.2%. I believe that it may just be personal error in coding in regards to calculations but I thought that the accuracy of the gen nueron would be higher since it trained on the dataset used for testing unlike the other nuerons. "
   ]
  }
 ],
 "metadata": {
  "kernelspec": {
   "display_name": "Python 3",
   "language": "python",
   "name": "python3"
  },
  "language_info": {
   "codemirror_mode": {
    "name": "ipython",
    "version": 3
   },
   "file_extension": ".py",
   "mimetype": "text/x-python",
   "name": "python",
   "nbconvert_exporter": "python",
   "pygments_lexer": "ipython3",
   "version": "3.12.2"
  }
 },
 "nbformat": 4,
 "nbformat_minor": 2
}
